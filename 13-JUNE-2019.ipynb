{
 "cells": [
  {
   "cell_type": "code",
   "execution_count": 1,
   "metadata": {},
   "outputs": [],
   "source": [
    "#3n+1 solutionntime limit exceeded more than\n",
    "#"
   ]
  },
  {
   "cell_type": "code",
   "execution_count": null,
   "metadata": {},
   "outputs": [],
   "source": []
  },
  {
   "cell_type": "code",
   "execution_count": 5,
   "metadata": {},
   "outputs": [
    {
     "ename": "IndentationError",
     "evalue": "unindent does not match any outer indentation level (<tokenize>, line 22)",
     "output_type": "error",
     "traceback": [
      "\u001b[1;36m  File \u001b[1;32m\"<tokenize>\"\u001b[1;36m, line \u001b[1;32m22\u001b[0m\n\u001b[1;33m    return 30\u001b[0m\n\u001b[1;37m    ^\u001b[0m\n\u001b[1;31mIndentationError\u001b[0m\u001b[1;31m:\u001b[0m unindent does not match any outer indentation level\n"
     ]
    }
   ],
   "source": [
    "#function to calcute number of hours for a given period in the format()\n",
    "#numberofhours(11,1975,3,1999)->204504 or 205248\n",
    "#numberofhours(5,2019,6,2019)->1464\n",
    "#2,2017,6,2019\n",
    "#no of hours+24*no of days\n",
    "#3steps\n",
    "    #1.start month year to end of the year-calculate no of days\n",
    "    #2.calculate days for all years between start year \n",
    "        #2017,2018-365*no of years\n",
    "    #3.calculate days from jan to end month year\n",
    "    \n",
    "#excludoing february\n",
    "#first six months - 1,3,4,5,6,7\n",
    "                    #all odd months have 31 days\n",
    "                    #all even months have 30 days\n",
    "#last six months-8,9,10,11,12\n",
    "                    #all even month have 31 days\n",
    "                    #all odd months have 30 days\n",
    "#31 days-(month <= 7 and month % 2 !=0 and month !=0) || (month >= 8 and month% 2==0 )\n",
    "      return 31\n",
    "        elif\n",
    "    return 30\n",
    "\n",
    "\n",
    "\n",
    "def numberofdaysmonth(month):\n",
    "    if month <= 7 and month % 2 != 0:\n",
    "        return 31\n",
    "    else:\n",
    "        return 30\n"
   ]
  },
  {
   "cell_type": "code",
   "execution_count": null,
   "metadata": {},
   "outputs": [],
   "source": []
  }
 ],
 "metadata": {
  "kernelspec": {
   "display_name": "Python 3",
   "language": "python",
   "name": "python3"
  },
  "language_info": {
   "codemirror_mode": {
    "name": "ipython",
    "version": 3
   },
   "file_extension": ".py",
   "mimetype": "text/x-python",
   "name": "python",
   "nbconvert_exporter": "python",
   "pygments_lexer": "ipython3",
   "version": "3.7.3"
  }
 },
 "nbformat": 4,
 "nbformat_minor": 2
}
