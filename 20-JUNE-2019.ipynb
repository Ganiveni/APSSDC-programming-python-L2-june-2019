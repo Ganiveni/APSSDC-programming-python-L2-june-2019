{
 "cells": [
  {
   "cell_type": "markdown",
   "metadata": {},
   "source": [
    "### Day Objective\n",
    "-Regular Expressions\n",
    "    - Constructing regular expressions for various use cases\n",
    "    -Regular expressions module and related in python\n",
    "    -Improving the contacts application with name and phone number validation\n",
    "-File Handling\n",
    "    -Text Files.\n",
    "    -Upgrading the contact application to store contact information in a text file"
   ]
  },
  {
   "cell_type": "code",
   "execution_count": null,
   "metadata": {},
   "outputs": [],
   "source": []
  },
  {
   "cell_type": "markdown",
   "metadata": {},
   "source": [
    "#### Regular Expressions\n",
    "\n",
    "- Pattern Matching\n",
    "- Symbolic Notation of pattern\n",
    "    - Pattern :Format which repeats\n",
    "    - Pattern(RE) -Reprasents the set of all vales strings which match that pattern\n",
    "- [0-9]-->It reprasents return any digit\n",
    "- [a-z]-->Any lower case alphabet\n",
    "- [2468]-->All single digit multiples of 2\n",
    "        - [8642]\n",
    "        - [6824]\n",
    "- ^[0-9]{1}$-->Only single digit number\n",
    "    - ^[0-9]{3}$ -->Only 3 digit number\n",
    "- [0-9]*0$ --> All munltiples of 10 \n",
    "    - ^[1-9][0-9]*0$ -->starting value digit\n",
    "    - All multiples of 5---->^[0-9]*[0'5]$\n",
    "    - all 10 digit number----->^[0-9]{10}$ \n",
    "    - Validating phone number(India)(Start with 9876 followed by 9 digits\n",
    "    ------>^[9876][0-9]{8}$\n",
    "    ------>^[6-9][0-9]{9}$|[0][6-9][0-9]{9}$\n",
    "    ------>^[6-9][0-9]{9}$|[0][6-9][0-9]{9}|^[+][9][1][6-9][0-9]{9}\n",
    "    -[p][r][i][n][t]-----> searching a word \"print\"\n",
    "         ->Email Validation ( userdname@domine.extenstion )\n",
    "          -Username------>^[0-9a-z_.]{6,20}[@][0-9a-z]{3,18}.[a-z]{2,4}$\n",
    "              -Length of username : [6,15]\n",
    "              -no special charecters otherthan _.\n",
    "              -should not beginand end with _.\n",
    "              -Charecter set : all digits and alphabet\n",
    "          ------>^[0-9a-z][0-9a-z_.]{4,13}[0-9a-z]$\n",
    "          -domain\n",
    "              -length of domain: [3,18]\n",
    "              -no special charecters\n",
    "              -charecter set:all digits and alphabet\n",
    "          ---------->\n",
    "          -extension\n",
    "              -length of extension: [2,4]\n",
    "              -no special charecters\n",
    "              -charecter set:lower case alphabet\n",
    "    \n"
   ]
  },
  {
   "cell_type": "code",
   "execution_count": null,
   "metadata": {},
   "outputs": [],
   "source": []
  },
  {
   "cell_type": "code",
   "execution_count": 2,
   "metadata": {},
   "outputs": [
    {
     "name": "stdout",
     "output_type": "stream",
     "text": [
      "Valid Number\n"
     ]
    }
   ],
   "source": [
    "#Function to validate a phone number\n",
    "import re\n",
    "\n",
    "def phoneNumberValidator(number):\n",
    "    pattern= '^[6-9][0-9]{9}$|[0][6-9][0-9]{9}'\n",
    "    if re.match(pattern,str(number)):\n",
    "        print(\"Valid Number\")\n",
    "    else:\n",
    "        print(\"Invalid Number\")\n",
    "    return\n",
    "\n",
    "phoneNumberValidator(9985140454)"
   ]
  },
  {
   "cell_type": "code",
   "execution_count": null,
   "metadata": {},
   "outputs": [],
   "source": []
  },
  {
   "cell_type": "code",
   "execution_count": null,
   "metadata": {},
   "outputs": [],
   "source": []
  },
  {
   "cell_type": "code",
   "execution_count": null,
   "metadata": {},
   "outputs": [],
   "source": []
  },
  {
   "cell_type": "code",
   "execution_count": null,
   "metadata": {},
   "outputs": [],
   "source": []
  },
  {
   "cell_type": "code",
   "execution_count": null,
   "metadata": {},
   "outputs": [],
   "source": []
  },
  {
   "cell_type": "code",
   "execution_count": 1,
   "metadata": {},
   "outputs": [
    {
     "ename": "NameError",
     "evalue": "name 'listAllcontacts' is not defined",
     "output_type": "error",
     "traceback": [
      "\u001b[1;31m---------------------------------------------------------------------------\u001b[0m",
      "\u001b[1;31mNameError\u001b[0m                                 Traceback (most recent call last)",
      "\u001b[1;32m<ipython-input-1-3ffd60936c57>\u001b[0m in \u001b[0;36m<module>\u001b[1;34m\u001b[0m\n\u001b[0;32m      3\u001b[0m     \u001b[1;32mfor\u001b[0m \u001b[0mcontact\u001b[0m\u001b[1;33m,\u001b[0m \u001b[0minfo\u001b[0m \u001b[1;32min\u001b[0m \u001b[0mcontacts\u001b[0m\u001b[1;33m.\u001b[0m\u001b[0mitems\u001b[0m\u001b[1;33m(\u001b[0m\u001b[1;33m)\u001b[0m\u001b[1;33m:\u001b[0m\u001b[1;33m\u001b[0m\u001b[1;33m\u001b[0m\u001b[0m\n\u001b[0;32m      4\u001b[0m         \u001b[0mprint\u001b[0m \u001b[1;33m(\u001b[0m\u001b[0mcontact\u001b[0m\u001b[1;33m,\u001b[0m \u001b[1;34m\"\\n,\"\u001b[0m\u001b[1;34m\"phone:\"\u001b[0m\u001b[1;33m,\u001b[0m \u001b[0minfo\u001b[0m\u001b[1;33m[\u001b[0m\u001b[1;36m0\u001b[0m\u001b[1;33m]\u001b[0m\u001b[1;33m,\u001b[0m\u001b[1;34m\"\\n\"\u001b[0m\u001b[1;33m,\u001b[0m \u001b[0minfo\u001b[0m\u001b[1;33m[\u001b[0m\u001b[1;36m1\u001b[0m\u001b[1;33m]\u001b[0m\u001b[1;33m)\u001b[0m\u001b[1;33m\u001b[0m\u001b[1;33m\u001b[0m\u001b[0m\n\u001b[1;32m----> 5\u001b[1;33m \u001b[0mlistAllcontacts\u001b[0m\u001b[1;33m(\u001b[0m\u001b[1;33m)\u001b[0m\u001b[1;33m\u001b[0m\u001b[1;33m\u001b[0m\u001b[0m\n\u001b[0m",
      "\u001b[1;31mNameError\u001b[0m: name 'listAllcontacts' is not defined"
     ]
    }
   ],
   "source": [
    "#function to list all contacts\n",
    "def listAllContacts():\n",
    "    for contact, info in contacts.items():\n",
    "        print (contact, \"\\n,\"\"phone:\", info[0],\"\\n\", info[1])\n",
    "listAllcontacts()"
   ]
  },
  {
   "cell_type": "code",
   "execution_count": null,
   "metadata": {},
   "outputs": [],
   "source": []
  },
  {
   "cell_type": "code",
   "execution_count": null,
   "metadata": {},
   "outputs": [],
   "source": []
  },
  {
   "cell_type": "code",
   "execution_count": null,
   "metadata": {},
   "outputs": [],
   "source": []
  },
  {
   "cell_type": "markdown",
   "metadata": {},
   "source": [
    "### File Handling in python\n",
    "\n",
    "File - Document containing information residing on the permanent storage\n",
    "Type - Text,PDF,CSV etc\n",
    "\n",
    "File I/O - Channelling I/O data to files\n",
    "Default I/O channels _ keyboard / screen\n",
    "\n",
    "Change I/O channel to files for reading and writing\n",
    "\n",
    "Read a file - Input\n",
    "Write to a file - Outpuyt to a file\n",
    "\n",
    "Read / write file - open(filename, mode)\n",
    "\n",
    "\n"
   ]
  },
  {
   "cell_type": "code",
   "execution_count": 17,
   "metadata": {},
   "outputs": [
    {
     "name": "stdout",
     "output_type": "stream",
     "text": [
      "Line1\n",
      "Line2\n",
      "Line3Line1\n",
      "Line2\n",
      "Line3\n"
     ]
    }
   ],
   "source": [
    "# function to read a file\n",
    "\n",
    "def readFile(filename):\n",
    "    f = open(filename, 'r')\n",
    "    filedata = f.read()\n",
    "    f.close()\n",
    "    return filedata\n",
    "\n",
    "filename ='Data Folder/data.txt'\n",
    "filedata = readFile(filename)\n",
    "#for line in filedata.split('\\n'):\n",
    "    #print(line)\n",
    "    \n",
    "def printFileDataLines(filename):\n",
    "    f = open(filename, 'r')\n",
    "    for line in f:\n",
    "        print(line, end='')\n",
    "    return \n",
    "printFileDataLines(filename)\n",
    "print(readFile(filename))\n",
    "    "
   ]
  },
  {
   "cell_type": "code",
   "execution_count": null,
   "metadata": {},
   "outputs": [],
   "source": []
  },
  {
   "cell_type": "code",
   "execution_count": 24,
   "metadata": {},
   "outputs": [],
   "source": [
    "#function to write data in to file\n",
    "\n",
    "def writeIntoFile(filename, filedata):\n",
    "    with open(filename, 'w') as f:\n",
    "        f.write(filedata)\n",
    "        return\n",
    "    \n",
    "filename = 'Data Folder/data.txt'\n",
    "\n",
    "writeIntoFile(filename,\"new data\\n\")"
   ]
  },
  {
   "cell_type": "code",
   "execution_count": 26,
   "metadata": {},
   "outputs": [],
   "source": [
    "#function to append data to a file\n",
    "\n",
    "def appendDataToFile(filename, filedata):\n",
    "    with open(filename, 'a') as f:\n",
    "        f.write(filedata)\n",
    "    return\n",
    "filedata = \"line2/line3\"\n",
    "appendDataToFile(filename, filedata)"
   ]
  },
  {
   "cell_type": "code",
   "execution_count": null,
   "metadata": {},
   "outputs": [],
   "source": []
  },
  {
   "cell_type": "code",
   "execution_count": null,
   "metadata": {},
   "outputs": [],
   "source": []
  },
  {
   "cell_type": "code",
   "execution_count": null,
   "metadata": {},
   "outputs": [],
   "source": []
  }
 ],
 "metadata": {
  "kernelspec": {
   "display_name": "Python 3",
   "language": "python",
   "name": "python3"
  },
  "language_info": {
   "codemirror_mode": {
    "name": "ipython",
    "version": 3
   },
   "file_extension": ".py",
   "mimetype": "text/x-python",
   "name": "python",
   "nbconvert_exporter": "python",
   "pygments_lexer": "ipython3",
   "version": "3.7.3"
  }
 },
 "nbformat": 4,
 "nbformat_minor": 2
}
