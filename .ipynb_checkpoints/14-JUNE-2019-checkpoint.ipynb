{
 "cells": [
  {
   "cell_type": "markdown",
   "metadata": {},
   "source": [
    "### Problem Solving And Programming in Python - Day 4\n",
    "\n",
    "\n",
    "#### Date - June 2019\n",
    "\n",
    "#### Day Objective\n",
    "\n",
    "Python Data Structures\n",
    "  -Lists\n",
    "  -Tuples\n",
    "  -Dictionaries\n",
    "Basic Problem Set on data structures\n",
    "Advanced Problem set\n",
    "Packeges and modules in python"
   ]
  },
  {
   "cell_type": "code",
   "execution_count": null,
   "metadata": {},
   "outputs": [],
   "source": []
  },
  {
   "cell_type": "markdown",
   "metadata": {},
   "source": [
    "### Python Data Structures\n",
    "\n",
    "\n",
    "#### Lists"
   ]
  },
  {
   "cell_type": "code",
   "execution_count": 87,
   "metadata": {},
   "outputs": [
    {
     "ename": "TypeError",
     "evalue": "'int' object is not callable",
     "output_type": "error",
     "traceback": [
      "\u001b[1;31m---------------------------------------------------------------------------\u001b[0m",
      "\u001b[1;31mTypeError\u001b[0m                                 Traceback (most recent call last)",
      "\u001b[1;32m<ipython-input-87-50a5451cede4>\u001b[0m in \u001b[0;36m<module>\u001b[1;34m\u001b[0m\n\u001b[0;32m     36\u001b[0m \u001b[1;33m\u001b[0m\u001b[0m\n\u001b[0;32m     37\u001b[0m \u001b[0msum\u001b[0m\u001b[1;33m(\u001b[0m\u001b[0mli\u001b[0m\u001b[1;33m)\u001b[0m\u001b[1;33m\u001b[0m\u001b[1;33m\u001b[0m\u001b[0m\n\u001b[1;32m---> 38\u001b[1;33m \u001b[0mmax\u001b[0m\u001b[1;33m(\u001b[0m\u001b[0mli\u001b[0m\u001b[1;33m)\u001b[0m\u001b[1;33m\u001b[0m\u001b[1;33m\u001b[0m\u001b[0m\n\u001b[0m\u001b[0;32m     39\u001b[0m \u001b[0mlen\u001b[0m\u001b[1;33m(\u001b[0m\u001b[0mli\u001b[0m\u001b[1;33m)\u001b[0m\u001b[1;33m\u001b[0m\u001b[1;33m\u001b[0m\u001b[0m\n\u001b[0;32m     40\u001b[0m \u001b[0msum\u001b[0m\u001b[1;33m(\u001b[0m\u001b[0mli\u001b[0m\u001b[1;33m)\u001b[0m\u001b[1;33m/\u001b[0m\u001b[0mlen\u001b[0m\u001b[1;33m(\u001b[0m\u001b[0mli\u001b[0m\u001b[1;33m)\u001b[0m\u001b[1;31m#Average of list of elements\u001b[0m\u001b[1;33m\u001b[0m\u001b[1;33m\u001b[0m\u001b[0m\n",
      "\u001b[1;31mTypeError\u001b[0m: 'int' object is not callable"
     ]
    }
   ],
   "source": [
    "li = [123, 978, 654]\n",
    "\n",
    "li #Access the entire list\n",
    "\n",
    "li[1] #Access an element through index in a list\n",
    "\n",
    "li[1:] # Access all elements from second to last elements\n",
    "\n",
    "li[::-1] #Access all elements in copy of reverse order\n",
    "\n",
    "li = li[::-1] # reversing list elements and re assining to original list\n",
    "\n",
    "li[::2] # accessing even index elements\n",
    "\n",
    "li[1::2]\n",
    "\n",
    "# Lists can be accessed, manipiulated in \n",
    "        #Direct refferencing - accessing throug [index]\n",
    "        #Indirect refferencing - through functions\n",
    "        \n",
    "        \n",
    "li.append(345) #Adding an element to end of the list\n",
    "\n",
    "li.insert(4,234) #Adding an element at a perticular\n",
    "\n",
    "li.sort() #Sort elements in ascending order\n",
    "\n",
    "li.pop() #Remove the last element in a list\n",
    "\n",
    "li.pop(1) #Remove a perticular element in alist\n",
    "\n",
    "li2 =[234, 456, 789]\n",
    "\n",
    "li.extend(li2) #Merge list2 elements in list 1\n",
    "\n",
    "\n",
    "sum(li)\n",
    "max(li)\n",
    "len(li)\n",
    "sum(li)/len(li)#Average of list of elements\n",
    "sum(li[1::2])/len(li[1::2])#Average of all alternate elements\n",
    "min(li)\n",
    "li.index(10000)"
   ]
  },
  {
   "cell_type": "code",
   "execution_count": null,
   "metadata": {},
   "outputs": [],
   "source": []
  },
  {
   "cell_type": "code",
   "execution_count": 79,
   "metadata": {},
   "outputs": [
    {
     "data": {
      "text/plain": [
       "45"
      ]
     },
     "execution_count": 79,
     "metadata": {},
     "output_type": "execute_result"
    }
   ],
   "source": [
    "#Function to identify the second largest element\n",
    "\n",
    "li=[10, 20, 4, 45, 99]\n",
    "\n",
    "li.sort()\n",
    "\n",
    "li[-2]"
   ]
  },
  {
   "cell_type": "code",
   "execution_count": 85,
   "metadata": {},
   "outputs": [
    {
     "ename": "SyntaxError",
     "evalue": "invalid syntax (<ipython-input-85-3a88a5b74f11>, line 3)",
     "output_type": "error",
     "traceback": [
      "\u001b[1;36m  File \u001b[1;32m\"<ipython-input-85-3a88a5b74f11>\"\u001b[1;36m, line \u001b[1;32m3\u001b[0m\n\u001b[1;33m    li=[1,4,,4,geek]\u001b[0m\n\u001b[1;37m            ^\u001b[0m\n\u001b[1;31mSyntaxError\u001b[0m\u001b[1;31m:\u001b[0m invalid syntax\n"
     ]
    }
   ],
   "source": [
    "#function to search for a data in a list\n",
    "#seach for the key in the list and return the \n",
    "def linearsearch(li, key):\n",
    "    return\n",
    "    \n",
    "    "
   ]
  },
  {
   "cell_type": "code",
   "execution_count": null,
   "metadata": {},
   "outputs": [],
   "source": []
  },
  {
   "cell_type": "code",
   "execution_count": 96,
   "metadata": {},
   "outputs": [
    {
     "data": {
      "text/plain": [
       "2"
      ]
     },
     "execution_count": 96,
     "metadata": {},
     "output_type": "execute_result"
    }
   ],
   "source": [
    "#function to count the occurances of a  charecter\n",
    "#\"python programing\",m ->2\n",
    "\n",
    "def countcharoccurances(s, c):\n",
    "    count = 0\n",
    "    for ch in s:\n",
    "        if ch == c:\n",
    "            count += 1\n",
    "            return count \n",
    "        \n",
    "def countcharoccurances2(s, c):\n",
    "    return s.count(c)\n",
    "\n",
    "countcharoccurances2(\"python programming\", 'm')\n",
    "\n",
    "\n",
    "\n",
    "\n"
   ]
  },
  {
   "cell_type": "code",
   "execution_count": 104,
   "metadata": {},
   "outputs": [
    {
     "data": {
      "text/plain": [
       "2"
      ]
     },
     "execution_count": 104,
     "metadata": {},
     "output_type": "execute_result"
    }
   ],
   "source": [
    "#function to find the number of occurances of a subs\n",
    "#\"abcabcddcba\",\"ab\"->2\n",
    "\n",
    "def countcharoccurances(s, c):\n",
    "    count = 0\n",
    "    for ch in s:\n",
    "        if ch == c:\n",
    "            count += 1\n",
    "            return count \n",
    "        \n",
    "def countcharoccurances2(s, c):\n",
    "    return s.count(c)\n",
    "\n",
    "countcharoccurances2(\"abcabcddcbaaaa\",\"aa\")\n"
   ]
  },
  {
   "cell_type": "code",
   "execution_count": null,
   "metadata": {},
   "outputs": [],
   "source": []
  },
  {
   "cell_type": "code",
   "execution_count": null,
   "metadata": {},
   "outputs": [],
   "source": []
  }
 ],
 "metadata": {
  "kernelspec": {
   "display_name": "Python 3",
   "language": "python",
   "name": "python3"
  },
  "language_info": {
   "codemirror_mode": {
    "name": "ipython",
    "version": 3
   },
   "file_extension": ".py",
   "mimetype": "text/x-python",
   "name": "python",
   "nbconvert_exporter": "python",
   "pygments_lexer": "ipython3",
   "version": "3.7.3"
  }
 },
 "nbformat": 4,
 "nbformat_minor": 2
}
