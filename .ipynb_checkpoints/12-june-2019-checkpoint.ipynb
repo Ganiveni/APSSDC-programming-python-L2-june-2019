{
 "cells": [
  {
   "cell_type": "markdown",
   "metadata": {},
   "source": [
    "# Problem solving and programming\n",
    "\n",
    "#### Date 12 june 2019\n",
    "\n",
    "#### Day objectives\n",
    " - String Slicing\n",
    " - Functions in python\n",
    " - Basic problems related to conditional statemetns using functions\n",
    " - iteration in python\n",
    " - Python data structures-lists,tuples and dictionaries\n",
    " - Basic Operations on data structures\n",
    " - Applying data structures to solve problems"
   ]
  },
  {
   "cell_type": "code",
   "execution_count": null,
   "metadata": {},
   "outputs": [],
   "source": []
  },
  {
   "cell_type": "markdown",
   "metadata": {},
   "source": [
    "## String Slicing"
   ]
  },
  {
   "cell_type": "code",
   "execution_count": 32,
   "metadata": {},
   "outputs": [
    {
     "data": {
      "text/plain": [
       "'o'"
      ]
     },
     "execution_count": 32,
     "metadata": {},
     "output_type": "execute_result"
    }
   ],
   "source": [
    "s1 =\"pythonkkodoijoiakekdi\"\n",
    "s1\n",
    "s1[1] #Accessing the 2nd charecter\n",
    "s1[len(s1)-1] # Accessing the last charecter\n",
    "s1[-1]  # Accessing the last charecter(another way)\n",
    "s1[0] # Accessing of the first charecter in a string\n",
    "s1[len(s1)-2] # Accessing the penultimate charecter of a string\n",
    "s1[-2] # Accessing the penultimate charecter of a string(anotherway)\n",
    "s1[-2:len(s1)] #Accessing the last2 charecters\n",
    "s1[-2:] #Accessing the last2 charecters9another way\n",
    "s1[4:] #Accessing all charecters from 5th to end of the string\n",
    "s1[1:len(s1)-1] # Accessing all charecters except 1st and last\n",
    "s1[1:-1] # Accessing all charecters except 1st and last(another way)\n",
    "s1[len(s1)//2] #ccessing only middle charecter of the string\n"
   ]
  },
  {
   "cell_type": "code",
   "execution_count": null,
   "metadata": {},
   "outputs": [],
   "source": []
  },
  {
   "cell_type": "code",
   "execution_count": null,
   "metadata": {},
   "outputs": [],
   "source": []
  },
  {
   "cell_type": "code",
   "execution_count": null,
   "metadata": {},
   "outputs": [],
   "source": []
  }
 ],
 "metadata": {
  "kernelspec": {
   "display_name": "Python 3",
   "language": "python",
   "name": "python3"
  },
  "language_info": {
   "codemirror_mode": {
    "name": "ipython",
    "version": 3
   },
   "file_extension": ".py",
   "mimetype": "text/x-python",
   "name": "python",
   "nbconvert_exporter": "python",
   "pygments_lexer": "ipython3",
   "version": "3.7.3"
  }
 },
 "nbformat": 4,
 "nbformat_minor": 2
}
